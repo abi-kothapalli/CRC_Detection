{
 "cells": [
  {
   "cell_type": "code",
   "execution_count": 36,
   "metadata": {
    "scrolled": true
   },
   "outputs": [],
   "source": [
    "import mifs\n",
    "import pandas as pd\n",
    "import numpy as np\n",
    "from sklearn.preprocessing import StandardScaler"
   ]
  },
  {
   "cell_type": "code",
   "execution_count": 37,
   "metadata": {},
   "outputs": [],
   "source": [
    "df = pd.read_csv(\"dataset.csv\")\n",
    "\n",
    "X = df.drop(labels=\"class\", axis=1)\n",
    "sc = StandardScaler()\n",
    "X_std = sc.fit_transform(X)\n",
    "\n",
    "y = df[\"class\"]\n",
    "y.replace(to_replace = [\"CRC\", \"control\"], value = [1,0], inplace = True, regex = False)"
   ]
  },
  {
   "cell_type": "code",
   "execution_count": 38,
   "metadata": {},
   "outputs": [
    {
     "name": "stdout",
     "output_type": "stream",
     "text": [
      "Auto selected feature #1 : 0, JMI : 0.014765987142491888\n",
      "Auto selected feature #2 : 514, JMI : 0.11474695898746745\n",
      "Auto selected feature #3 : 17, JMI : 0.11474695898746745\n",
      "Auto selected feature #4 : 535, JMI : 0.10631211678436214\n",
      "Auto selected feature #5 : 3, JMI : 0.09699189355882476\n",
      "Auto selected feature #6 : 21, JMI : 0.09053943121825547\n",
      "Auto selected feature #7 : 420, JMI : 0.09053943121825547\n",
      "Auto selected feature #8 : 128, JMI : 0.09053943121825547\n",
      "Auto selected feature #9 : 431, JMI : 0.08247571633568729\n",
      "Auto selected feature #10 : 18, JMI : 0.08247571633568729\n",
      "Auto selected feature #11 : 149, JMI : 0.08247571633568729\n",
      "Auto selected feature #12 : 1086, JMI : 0.07121234605187166\n",
      "Auto selected feature #13 : 1088, JMI : 0.07121234605187166\n",
      "Auto selected feature #14 : 564, JMI : 0.07121234605187166\n",
      "Auto selected feature #15 : 570, JMI : 0.07121234605187166\n",
      "Auto selected feature #16 : 136, JMI : 0.07121234605187166\n"
     ]
    },
    {
     "data": {
      "text/plain": [
       "MutualInformationFeatureSelector(categorical=True, k=5, method='JMI',\n",
       "                                 n_features='auto', n_jobs=1, verbose=2)"
      ]
     },
     "execution_count": 38,
     "metadata": {},
     "output_type": "execute_result"
    }
   ],
   "source": [
    "jmi_selector = mifs.MutualInformationFeatureSelector(method = \"JMI\", verbose = 2)\n",
    "jmi_selector.fit(X_std, y)"
   ]
  },
  {
   "cell_type": "code",
   "execution_count": 41,
   "metadata": {},
   "outputs": [
    {
     "name": "stdout",
     "output_type": "stream",
     "text": [
      "Auto selected feature #1 : 0, JMIM : 0.014765987142491888\n",
      "Auto selected feature #2 : 514, JMIM : 0.11474695898746745\n",
      "Auto selected feature #3 : 535, JMIM : 0.11474695898746745\n",
      "Auto selected feature #4 : 564, JMIM : 0.1116214477509212\n",
      "Auto selected feature #5 : 570, JMIM : 0.1116214477509212\n",
      "Auto selected feature #6 : 451, JMIM : 0.10903271276505766\n",
      "Auto selected feature #7 : 472, JMIM : 0.10903271276505766\n",
      "Auto selected feature #8 : 565, JMIM : 0.10683114845854202\n",
      "Auto selected feature #9 : 571, JMIM : 0.10683114845854202\n",
      "Auto selected feature #10 : 459, JMIM : 0.10290594583598622\n",
      "Auto selected feature #11 : 420, JMIM : 0.09053943121825547\n",
      "Auto selected feature #12 : 431, JMIM : 0.09053943121825547\n",
      "Auto selected feature #13 : 14, JMIM : 0.08524098207828246\n",
      "Auto selected feature #14 : 124, JMIM : 0.08524098207828246\n",
      "Auto selected feature #15 : 303, JMIM : 0.07383013270450656\n",
      "Auto selected feature #16 : 226, JMIM : 0.06676032422612321\n",
      "Auto selected feature #17 : 276, JMIM : 0.06676032422612321\n",
      "Auto selected feature #18 : 220, JMIM : 0.06499450616823532\n",
      "Auto selected feature #19 : 270, JMIM : 0.06499450616823532\n",
      "Auto selected feature #20 : 125, JMIM : 0.06449974628571331\n",
      "Auto selected feature #21 : 358, JMIM : 0.06364139582368145\n"
     ]
    },
    {
     "data": {
      "text/plain": [
       "MutualInformationFeatureSelector(categorical=True, k=5, method='JMIM',\n",
       "                                 n_features='auto', n_jobs=1, verbose=2)"
      ]
     },
     "execution_count": 41,
     "metadata": {},
     "output_type": "execute_result"
    }
   ],
   "source": [
    "jmim_selector = mifs.MutualInformationFeatureSelector(method = \"JMIM\", verbose = 2)\n",
    "jmim_selector.fit(X_std, y)"
   ]
  },
  {
   "cell_type": "code",
   "execution_count": 48,
   "metadata": {},
   "outputs": [],
   "source": [
    "jmi_support = jmi_selector._get_support_mask()\n",
    "jmim_support = jmim_selector._get_support_mask()\n",
    "\n",
    "features = []\n",
    "feature_indices = []\n",
    "num_features = 0\n",
    "\n",
    "for index in range(len(jmi_support)):\n",
    "    if jmi_support[index] or jmim_support[index]:\n",
    "        features.append(True)\n",
    "        feature_indices.append(index)\n",
    "        num_features += 1\n",
    "    else:\n",
    "        features.append(False)"
   ]
  },
  {
   "cell_type": "code",
   "execution_count": 49,
   "metadata": {},
   "outputs": [
    {
     "name": "stdout",
     "output_type": "stream",
     "text": [
      "30\n",
      "30\n",
      "1612\n"
     ]
    }
   ],
   "source": [
    "print(num_features)\n",
    "print(len(feature_indices))\n",
    "print(len(features))\n",
    "\n",
    "np.savetxt(\"mifs_features.csv\", features, delimiter=\",\", fmt='%d')\n",
    "np.savetxt(\"mifs_features_indices.csv\", feature_indices, delimiter=\",\", fmt='%d')"
   ]
  },
  {
   "cell_type": "code",
   "execution_count": null,
   "metadata": {},
   "outputs": [],
   "source": []
  }
 ],
 "metadata": {
  "kernelspec": {
   "display_name": "Python 3",
   "language": "python",
   "name": "python3"
  },
  "language_info": {
   "codemirror_mode": {
    "name": "ipython",
    "version": 3
   },
   "file_extension": ".py",
   "mimetype": "text/x-python",
   "name": "python",
   "nbconvert_exporter": "python",
   "pygments_lexer": "ipython3",
   "version": "3.7.4"
  }
 },
 "nbformat": 4,
 "nbformat_minor": 2
}
