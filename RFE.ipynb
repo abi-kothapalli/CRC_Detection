{
 "cells": [
  {
   "cell_type": "code",
   "execution_count": 1,
   "metadata": {},
   "outputs": [],
   "source": [
    "from xgboost import XGBClassifier\n",
    "from sklearn.preprocessing import StandardScaler\n",
    "from sklearn.feature_selection import SelectFromModel\n",
    "from sklearn.linear_model import LogisticRegression\n",
    "import pandas as pd\n",
    "import numpy as np"
   ]
  },
  {
   "cell_type": "code",
   "execution_count": 2,
   "metadata": {},
   "outputs": [],
   "source": [
    "df = pd.read_csv(\"dataset.csv\")\n",
    "X = df.drop(labels=\"class\", axis=1)\n",
    "y = df[\"class\"]\n",
    "\n",
    "sc = StandardScaler()\n",
    "X_std = sc.fit_transform(X)"
   ]
  },
  {
   "cell_type": "code",
   "execution_count": null,
   "metadata": {},
   "outputs": [],
   "source": [
    "xgb = XGBClassifier(learning_rate=0.05, n_estimators=250, objective=\"binary:logistic\")\n",
    "rfe_xgb = SelectFromModel(xgb, max_features=30)\n",
    "\n",
    "rfe_xgb.fit(X_std,y)"
   ]
  },
  {
   "cell_type": "code",
   "execution_count": null,
   "metadata": {},
   "outputs": [],
   "source": [
    "lr = LogisticRegression(penalty=\"l1\", solver='liblinear', C=0.1)\n",
    "rfe_lr = SelectFromModel(lr, max_features=30)\n",
    "\n",
    "rfe_lr.fit(X_std,y)"
   ]
  },
  {
   "cell_type": "code",
   "execution_count": null,
   "metadata": {},
   "outputs": [],
   "source": [
    "xgb_support = rfe_xgb.get_support()\n",
    "xgb_features = X.loc[:,xgb_support].columns.tolist()\n",
    "\n",
    "lr_support = rfe_lr.get_support()\n",
    "lr_features = X.loc[:,lr_support].columns.tolist()\n",
    "#filtered = rfe_xgb.transform(X)\n",
    "\n",
    "print(str(len(xgb_features)))\n",
    "print(str(len(lr_features)))"
   ]
  },
  {
   "cell_type": "code",
   "execution_count": null,
   "metadata": {},
   "outputs": [],
   "source": [
    "features = []\n",
    "feature_indices = []\n",
    "num_features = 0\n",
    "\n",
    "for index in range(len(xgb_support)):\n",
    "    if xgb_support[index] or lr_support[index]:\n",
    "        features.append(True)\n",
    "        feature_indices.append(index)\n",
    "        num_features += 1\n",
    "    else:\n",
    "        features.append(False)"
   ]
  },
  {
   "cell_type": "code",
   "execution_count": null,
   "metadata": {},
   "outputs": [],
   "source": [
    "print(num_features)\n",
    "print(len(feature_indices))\n",
    "print(len(features))\n",
    "\n",
    "np.savetxt(\"rfe_features.csv\", features, delimiter=\",\", fmt='%d')\n",
    "np.savetxt(\"rfe_features_indices.csv\", feature_indices, delimiter=\",\", fmt='%d')"
   ]
  },
  {
   "cell_type": "code",
   "execution_count": 3,
   "metadata": {},
   "outputs": [],
   "source": [
    "xgb = XGBClassifier(learning_rate=0.05, n_estimators=250, objective=\"binary:logistic\")\n",
    "rfe_xgb = SelectFromModel(xgb, max_features=20)\n",
    "\n",
    "rfe_xgb.fit(X_std,y)\n",
    "\n",
    "xgb_support = rfe_xgb.get_support()\n",
    "xgb_features = X.loc[:,xgb_support].columns.tolist()"
   ]
  },
  {
   "cell_type": "code",
   "execution_count": 11,
   "metadata": {},
   "outputs": [],
   "source": [
    "indices = np.concatenate((xgb_support, np.array([True])))\n",
    "top_features = df.loc[:,indices]\n",
    "\n",
    "top_features.to_csv('top_features.csv', index=False) "
   ]
  }
 ],
 "metadata": {
  "kernelspec": {
   "display_name": "Python 3",
   "language": "python",
   "name": "python3"
  },
  "language_info": {
   "codemirror_mode": {
    "name": "ipython",
    "version": 3
   },
   "file_extension": ".py",
   "mimetype": "text/x-python",
   "name": "python",
   "nbconvert_exporter": "python",
   "pygments_lexer": "ipython3",
   "version": "3.7.4"
  }
 },
 "nbformat": 4,
 "nbformat_minor": 2
}
